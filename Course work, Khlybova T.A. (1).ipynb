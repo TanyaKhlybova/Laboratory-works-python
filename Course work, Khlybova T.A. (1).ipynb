{
 "cells": [
  {
   "cell_type": "markdown",
   "id": "banned-cedar",
   "metadata": {},
   "source": [
    "# Курсовая работа по дисциплине СиАОД\n",
    "## Выполнила студентка группы БСТ1904 Хлыбова Т. А."
   ]
  },
  {
   "cell_type": "markdown",
   "id": "affecting-galaxy",
   "metadata": {},
   "source": [
    "### Задание №1  «Треугольник с максимальным периметром»\n",
    "Массив A состоит из целых положительных чисел - длин отрезков. Составьте из трех отрезков такой треугольник, чтобы его периметр был максимально возможным. Если невозможно\n",
    "составить треугольник с положительной площадью - функция возвращает 0"
   ]
  },
  {
   "cell_type": "code",
   "execution_count": 4,
   "id": "greater-scholar",
   "metadata": {},
   "outputs": [],
   "source": [
    "def maxPerimeter(nums):\n",
    "    nums = sorted(nums)\n",
    "    nums.reverse()\n",
    "    print(nums)\n",
    "    for i in range(0, len(nums)-2):\n",
    "        if ((nums[i] < nums[i + 1] + nums[i + 2])\n",
    "        and(nums[i+1]< nums[i] + nums[i + 2]) \n",
    "        and(nums[i + 2] < nums[i + 1] + nums[i])):\n",
    "            p = nums[i] + nums[i + 1] + nums[i + 2]\n",
    "            print (p)\n",
    "            break\n",
    "    if (p == 0):\n",
    "        print(\"Треугольника не существует\")"
   ]
  },
  {
   "cell_type": "markdown",
   "id": "solid-killer",
   "metadata": {},
   "source": [
    "### Задание №2  «Максимальное число»\n",
    "Дан массив неотрицательных целых чисел nums. Расположите их в таком порядке, чтобы\n",
    "вместе они образовали максимально возможное число."
   ]
  },
  {
   "cell_type": "code",
   "execution_count": 5,
   "id": "secure-makeup",
   "metadata": {},
   "outputs": [],
   "source": [
    "def maxNumber(nums):\n",
    "    Arr = sorted(Arr)\n",
    "    Arr.reverse()\n",
    "    print(Arr)\n",
    "    num = 0\n",
    "    for i in range(len(Arr)):\n",
    "        if Arr[i]<10:\n",
    "            num +=1\n",
    "    for j in range(len(Arr)-num,len(Arr)):\n",
    "        current = Arr[j]\n",
    "        i = j-1\n",
    "        while i >=0 and current >= (Arr[i]//10):\n",
    "            if current == (Arr[i]//10):\n",
    "                if current < (Arr[i]%10):\n",
    "                    break\n",
    "            Arr[i+1] = Arr[i]\n",
    "            i -= 1\n",
    "            if Arr[i]//10==0:\n",
    "                break\n",
    "        Arr[i+1] = current \n",
    "\n",
    "    if Arr[0]==100:\n",
    "\n",
    "        if Arr[len(Arr)-1]==0:\n",
    "            for i in range(len(Arr)-2):\n",
    "                Arr[i]=Arr[i+1]\n",
    "            Arr[len(Arr)-2]=100\n",
    "\n",
    "\n",
    "\n",
    "        else:\n",
    "            for i in range(len(Arr)-1):\n",
    "                Arr[i]=Arr[i+1]\n",
    "            Arr[len(Arr)-1]=100\n",
    "    print(Arr)\n",
    "    print(\"\".join([str(i) for i in Arr]))"
   ]
  },
  {
   "cell_type": "markdown",
   "id": "floral-missile",
   "metadata": {},
   "source": [
    "### Задание №3 «Сортировка диагоналей в матрице»\n",
    "Дана матрица mat размером m * n, значения целочисленные. Напишите функцию, сортирующую каждую диагональ матрицы по возрастанию и возвращающую получившуюся матрицу"
   ]
  },
  {
   "cell_type": "code",
   "execution_count": 6,
   "id": "approved-nevada",
   "metadata": {},
   "outputs": [],
   "source": [
    "def sortDiagonals(arr):\n",
    "    n = len(arr)\n",
    "    m = len(arr[0])\n",
    "    while True:\n",
    "        c = 0\n",
    "        for j in range(n): \n",
    "            for i in range(m):\n",
    "                try:\n",
    "                    if a[j][i] > a[j+1][i+1]:\n",
    "                        c = 1\n",
    "                        a[j][i],a[j+1][1+i] = a[j+1][1+i],a[j][i]\n",
    "                except:\n",
    "                    continue\n",
    "        if c ==0:\n",
    "            break\n",
    "    print()\n",
    "    for r in a:\n",
    "        print(*r)"
   ]
  },
  {
   "cell_type": "markdown",
   "id": "casual-pierce",
   "metadata": {},
   "source": [
    "### Задание №4 «Объединение отрезков»\n",
    "Дан массив отрезков intervals, в котором intervals[i] = [starti\n",
    ", endi\n",
    "], некоторые\n",
    "отрезки могут пересекаться. Напишите функцию, которая объединяет все пересекающиеся отрезки в один и возвращает новый массив непересекающихся отрезков.\n"
   ]
  },
  {
   "cell_type": "code",
   "execution_count": 7,
   "id": "lesbian-witch",
   "metadata": {},
   "outputs": [],
   "source": [
    "def merge(arr):\n",
    "    arr = sorted(arr)\n",
    "    newArr = []\n",
    "    temp = Array[0]\n",
    "    for i in range(1,len(Array)):\n",
    "        if (Array[i][0]<=temp[1]):\n",
    "            temp[1] = max(temp[1],Array[i][1])\n",
    "        else:\n",
    "            newArr.append(temp)\n",
    "            temp = Array[i]\n",
    "    newArr.append(temp)\n",
    "    for i in newArr:\n",
    "        print(*i)"
   ]
  },
  {
   "cell_type": "markdown",
   "id": "subject-council",
   "metadata": {},
   "source": [
    "### Задание №5 «Стопки монет»\n",
    "На столе стоят 3n стопок монет. Вы и ваши друзья Алиса и Боб забираете стопки монет по\n",
    "следующему алгоритму:\n"
   ]
  },
  {
   "cell_type": "code",
   "execution_count": 8,
   "id": "tough-auditor",
   "metadata": {},
   "outputs": [],
   "source": [
    "def maxNumberOfCoins(piles):\n",
    "    piles.sort()\n",
    "    piles.reverse()\n",
    "    print(piles)\n",
    "    m = len(piles)//3\n",
    "    h = 0\n",
    "    for i in range(m):\n",
    "        h+= piles[2*i+1]\n",
    "    return h\n",
    "        "
   ]
  },
  {
   "cell_type": "markdown",
   "id": "engaging-domain",
   "metadata": {},
   "source": [
    "### Задание №6 «Шарики и стрелы»\n",
    "Некоторые сферические шарики распределены по двухмерному пространству. Для каждого\n",
    "шарика даны x-координаты начала и конца его горизонтального диаметра. Так как пространство\n",
    "двумерно, то y-координаты не имеют значения в данной задаче. Координата xstart всегда меньше\n",
    "xend.\n",
    "Стрелу можно выстрелить строго вертикально (вдоль y-оси) из разных точек x-оси. Шарик\n",
    "с координатами xstart и xend уничтожается стрелой, если она была выпущена из такой позиции\n",
    "x, что xstart ⩽ x ⩽ xend. Когда стрела выпущена, она летит в пространстве бесконечное время\n",
    "(уничтожая все шарики на пути).\n",
    "Дан массив points, где points[i] = [xstart, xend]. Напишите функцию, возвращающую минимальное количество стрел, которые нужно выпустить, чтобы уничтожить все шарики."
   ]
  },
  {
   "cell_type": "code",
   "execution_count": null,
   "id": "reported-intervention",
   "metadata": {},
   "outputs": [],
   "source": [
    "def balloons(arr):\n",
    "    arr = sorted(arr)\n",
    "    points = []\n",
    "    temp = arr[0]\n",
    "    for i in range(1,len(arr)):\n",
    "        if (arr[i][0]<=temp[1]):\n",
    "            temp = [arr[i][0],temp[1]]\n",
    "        else:\n",
    "            points.append(temp)\n",
    "            temp = arr[i]\n",
    "    points.append(temp)\n",
    "    print(len(points))"
   ]
  },
  {
   "cell_type": "markdown",
   "id": "resistant-hometown",
   "metadata": {},
   "source": [
    "### Задание №7 \n",
    "Даны две строки: s1 и s2 с одинаковым размером, проверьте, может ли\n",
    "некоторая перестановка строки s1 “победить” некоторую перестановку\n",
    "строки s2 или наоборот.\n",
    "Строка x может “победить” строку y (обе имеют размер n), если x[i]> = y\n",
    "[i] (в алфавитном порядке) для всех i от 0 до n-1."
   ]
  },
  {
   "cell_type": "code",
   "execution_count": 9,
   "id": "increasing-therapy",
   "metadata": {},
   "outputs": [],
   "source": [
    "def winningStr(a,b):\n",
    "    a = sorted(a)\n",
    "    b = sorted(b)\n",
    "    count = 0\n",
    "    for i in range(len(a)):\n",
    "        if a[i]>b[i]:\n",
    "            count += 1\n",
    "    if count == len(a) or count == 0:\n",
    "        return True\n",
    "    else: \n",
    "        return False"
   ]
  },
  {
   "cell_type": "markdown",
   "id": "raising-cruise",
   "metadata": {},
   "source": [
    "### Задание №8\n",
    "Дана строка s, вернуть самую длинную полиндромную подстроку в s.\n"
   ]
  },
  {
   "cell_type": "code",
   "execution_count": 10,
   "id": "biblical-family",
   "metadata": {},
   "outputs": [],
   "source": [
    "def oddPalindrome(s,palArray):\n",
    "    for i in range(1,len(s)):\n",
    "        left = i-1\n",
    "        right = i+1\n",
    "        palindrome = s[i]\n",
    "        while left>=0 and right<len(s) and s[left]==s[right]:\n",
    "            palindrome = s[left] + palindrome + s[right]\n",
    "            left-=1\n",
    "            right+=1\n",
    "           \n",
    "        palArray.append(palindrome) "
   ]
  },
  {
   "cell_type": "code",
   "execution_count": 11,
   "id": "broke-static",
   "metadata": {},
   "outputs": [],
   "source": [
    "def evenPalindrome(s,palArray):\n",
    "    for i in range(len(s)):\n",
    "        left = i-1\n",
    "        right = i\n",
    "        palindrome = \"\"\n",
    "        while left>=0 and right<len(s) and s[left]==s[right]:\n",
    "            palindrome = s[left] + palindrome + s[right]\n",
    "            left-=1\n",
    "            right+=1\n",
    "            \n",
    "        palArray.append(palindrome) "
   ]
  },
  {
   "cell_type": "code",
   "execution_count": 12,
   "id": "unlimited-former",
   "metadata": {},
   "outputs": [],
   "source": [
    "def maxPalindrome(s):\n",
    "    palArray = []\n",
    "    oddPalindrome(s,palArray)\n",
    "    evenPalindrome(s,palArray)\n",
    "    maxPalindrome = max(palArray, key = len)\n",
    "    print(maxPalindrome)"
   ]
  },
  {
   "cell_type": "markdown",
   "id": "studied-tribute",
   "metadata": {},
   "source": [
    "### Задание №9 \n",
    "Вернуть количество отдельных непустых подстрок текста, которые могут\n",
    "быть записаны как конкатенация некоторой строки с самой собой (т.е. она\n",
    "может быть записана, как a + a, где a - некоторая строка)."
   ]
  },
  {
   "cell_type": "code",
   "execution_count": 1,
   "id": "indian-consortium",
   "metadata": {},
   "outputs": [],
   "source": [
    "def conc(s):\n",
    "    substrNum = 0\n",
    "    for i in range(len(s)):\n",
    "        count = 0\n",
    "        for j in range(i+1,len(s)):\n",
    "            num = 0\n",
    "            if s[i]!=s[j]:\n",
    "                count+=1\n",
    "            else:\n",
    "                for k in range(j-count,j):\n",
    "                    if (j+count) >= len(s):\n",
    "                        break\n",
    "                    if s[k]==s[k+count+1]:\n",
    "                        num+=1      \n",
    "                if count==num:\n",
    "                    substrNum+=1\n",
    "                    break\n",
    "                else:\n",
    "                    count+=1\n",
    "    return substrNum"
   ]
  },
  {
   "cell_type": "markdown",
   "id": "center-dayton",
   "metadata": {},
   "source": [
    "## Вывод \n",
    "в данной курсовой работе были выполнены задачи, на отработку полученых навыков и умений их применять."
   ]
  }
 ],
 "metadata": {
  "kernelspec": {
   "display_name": "Python 3",
   "language": "python",
   "name": "python3"
  },
  "language_info": {
   "codemirror_mode": {
    "name": "ipython",
    "version": 3
   },
   "file_extension": ".py",
   "mimetype": "text/x-python",
   "name": "python",
   "nbconvert_exporter": "python",
   "pygments_lexer": "ipython3",
   "version": "3.9.1"
  }
 },
 "nbformat": 4,
 "nbformat_minor": 5
}
