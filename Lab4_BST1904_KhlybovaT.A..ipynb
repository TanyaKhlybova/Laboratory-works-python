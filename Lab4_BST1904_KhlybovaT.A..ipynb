{
 "cells": [
  {
   "cell_type": "markdown",
   "id": "lovely-judge",
   "metadata": {},
   "source": [
    "# Лабораторная работа №4\n",
    "## Выполнила студентка группы БСТ1904 Хлыбова Т.А.\n",
    "### Реализация Stack и Deque\n",
    "● Стек (stack):\n",
    "операции для стека: инициализация, проверка на пустоту, добавление\n",
    "нового элемента в начало, извлечение элемента из начала;\n",
    "\n",
    "● Дек (двусторонняя очередь, deque):\n",
    "операции для дека: инициализация, проверка на пустоту, добавление\n",
    "нового элемента в начало, добавление нового элемента в конец,\n",
    "извлечение элемента из начала, извлечение элемента из конца."
   ]
  },
  {
   "cell_type": "code",
   "execution_count": 2,
   "id": "asian-brisbane",
   "metadata": {},
   "outputs": [],
   "source": [
    "class Stack:\n",
    "    def __init__(self):\n",
    "         self.items = []\n",
    "\n",
    "    def isEmpty(self):\n",
    "         return self.items == []\n",
    "\n",
    "    def push(self, item):\n",
    "         self.items.append(item)\n",
    "            \n",
    "    def pop(self):\n",
    "         return self.items.pop()\n",
    "\n",
    "    def peek(self):\n",
    "         return self.items[len(self.items)-1]\n",
    "\n",
    "    def size(self):\n",
    "         return len(self.items)"
   ]
  },
  {
   "cell_type": "code",
   "execution_count": 3,
   "id": "incomplete-aquatic",
   "metadata": {},
   "outputs": [],
   "source": [
    "class Deque:\n",
    "    def __init__(self):\n",
    "        self.items = []\n",
    "\n",
    "    def isEmpty(self):\n",
    "        return self.items == []\n",
    "\n",
    "    def pushBeginning(self, item):\n",
    "        self.items.append(item)\n",
    "\n",
    "    def pushEnd(self, item):\n",
    "        self.items.insert(0,item)\n",
    "\n",
    "    def popBeginning(self):\n",
    "        return self.items.pop()\n",
    "\n",
    "    def popEnd(self):\n",
    "        return self.items.pop(0)\n",
    "        \n",
    "    def peekBeginning(self):\n",
    "         return self.items[len(self.items)-1]\n",
    "        \n",
    "    def peekEnd(self):\n",
    "         return self.items[0]\n",
    "\n",
    "    def size(self):\n",
    "        return len(self.items)"
   ]
  },
  {
   "cell_type": "markdown",
   "id": "improved-traveler",
   "metadata": {},
   "source": [
    "### Задание №1\n",
    "Отсортировать строки файла, содержащие названия книг, в алфавитном порядке с\n",
    "использованием двух деков"
   ]
  },
  {
   "cell_type": "code",
   "execution_count": 5,
   "id": "paperback-athens",
   "metadata": {},
   "outputs": [
    {
     "name": "stdout",
     "output_type": "stream",
     "text": [
      "Анна Каренина \n",
      "\n",
      "Грозовой перевал \n",
      "\n",
      "Десять негритят \n",
      "\n",
      "Дети капитана Гранта\n",
      "\n",
      "Джейн Эйр\n",
      "\n",
      "Записки юного врача \n",
      "\n",
      "Леди Макбет Мценского уезда \n",
      "\n",
      "Любовь к жизни \n",
      "\n",
      "Мастер и Маргарита \n",
      "\n",
      "На западном фронте без перемен \n",
      "\n",
      "Преступление и наказание \n",
      "\n",
      "Пять четвертинок апельсина \n",
      "\n",
      "Ребекка\n",
      "\n",
      "Скотный двор \n",
      "\n",
      "Трое в лодке не считая собаки \n",
      "\n",
      "Убить пересмешника \n",
      "\n",
      "Черный обелиск\n",
      "\n"
     ]
    }
   ],
   "source": [
    "file = open('Books.txt','r',encoding='utf-8')\n",
    "d1 = Deque()\n",
    "d2 = Deque()\n",
    "for book in file:\n",
    "    d1.pushBeginning(book)\n",
    "while not d1.isEmpty():\n",
    "    temp = d1.popBeginning()\n",
    "    while not d2.isEmpty() and d2.peekBeginning() > temp:\n",
    "        d1.pushEnd(d2.popBeginning())\n",
    "    d2.pushBeginning(temp)\n",
    "while not d2.isEmpty():\n",
    "    print(d2.popEnd())\n"
   ]
  },
  {
   "cell_type": "markdown",
   "id": "adolescent-spice",
   "metadata": {},
   "source": [
    "### Задание №2\n",
    "Дек содержит последовательность символов для шифровки сообщений. Дан\n",
    "текстовый файл, содержащий зашифрованное сообщение. Пользуясь деком,\n",
    "расшифровать текст. Известно, что при шифровке каждый символ сообщения\n",
    "заменялся следующим за ним в деке по часовой стрелке через один"
   ]
  },
  {
   "cell_type": "code",
   "execution_count": 23,
   "id": "bound-nursing",
   "metadata": {},
   "outputs": [
    {
     "name": "stdout",
     "output_type": "stream",
     "text": [
      "ntlqmgeozuybrsfwacxhdvpikj\n"
     ]
    }
   ],
   "source": [
    "import random\n",
    "alphabet = list ('abcdefghijklmnopqrstuvwxyz')\n",
    "random.shuffle(alphabet)\n",
    "alphabet = ''.join(alphabet)\n",
    "print(alphabet)\n",
    "deque = Deque()\n",
    "for letter in alphabet: \n",
    "    deque.pushBeginning(letter)\n"
   ]
  },
  {
   "cell_type": "code",
   "execution_count": 29,
   "id": "grave-purse",
   "metadata": {},
   "outputs": [],
   "source": [
    "def encoding(c):\n",
    "     for i in range(deque.size()):\n",
    "        x = deque.popBeginning()\n",
    "        if x == c:\n",
    "            deque.pushEnd(x)\n",
    "            deque.pushEnd(deque.popBeginning())\n",
    "            value = deque.popBeginning()\n",
    "            deque.pushEnd(value)\n",
    "            return value\n",
    "        deque.pushEnd(x)\n",
    "        \n",
    "def decoding(c):\n",
    "    for i in range(deque.size()):\n",
    "        x = deque.popEnd()\n",
    "        if x == c:\n",
    "            deque.pushBeginning(x)\n",
    "            deque.pushBeginning(deque.popEnd())\n",
    "            value = deque.popEnd()\n",
    "            deque.pushBeginning(value)\n",
    "            return value\n",
    "        deque.pushBeginning(x)\n"
   ]
  },
  {
   "cell_type": "code",
   "execution_count": 33,
   "id": "tropical-migration",
   "metadata": {},
   "outputs": [
    {
     "name": "stdout",
     "output_type": "stream",
     "text": [
      "jcvb jmaj wgkjfvkb jcm mkwgxmx lmbbfqm.\n",
      "this text contains the encoded message.\n"
     ]
    }
   ],
   "source": [
    "text = \"This text contains the encoded message.\".lower()\n",
    "encodedText = \"\"\n",
    "for letter in text:\n",
    "    if encoded_letter := encoding(letter):\n",
    "        encodedText += encoded_letter\n",
    "    else:\n",
    "        encodedText += letter\n",
    "print(encodedText)\n",
    "\n",
    "decodedText = \"\"\n",
    "for letter in encodedText:\n",
    "    if encoded_letter := decoding(letter):\n",
    "        decodedText += encoded_letter\n",
    "    else:\n",
    "        decodedText += letter\n",
    "print(decodedText)"
   ]
  },
  {
   "cell_type": "markdown",
   "id": "terminal-chain",
   "metadata": {},
   "source": [
    "### Задание№3\n",
    "Даны три стержня и n дисков различного размера. Диски можно надевать на\n",
    "стержни, образуя из них башни. Перенести n дисков со стержня А на стержень С,\n",
    "сохранив их первоначальный порядок. При переносе дисков необходимо соблюдать\n",
    "следующие правила:\n",
    "- на каждом шаге со стержня на стержень переносить только один диск;\n",
    "- диск нельзя помещать на диск меньшего размера;\n",
    "- для промежуточного хранения можно использовать стержень В.\n",
    "Реализовать алгоритм, используя три стека вместо стержней А, В, С. Информация\n",
    "о дисках хранится в исходном файле"
   ]
  },
  {
   "cell_type": "code",
   "execution_count": 40,
   "id": "purple-birthday",
   "metadata": {},
   "outputs": [
    {
     "name": "stdout",
     "output_type": "stream",
     "text": [
      "1\n",
      "2\n",
      "3\n",
      "4\n",
      "5\n",
      "6\n"
     ]
    }
   ],
   "source": [
    "A = Stack()\n",
    "B = Stack()\n",
    "C = Stack()\n",
    "\n",
    "disks = 6\n",
    "\n",
    "for i in range(disks, 0, -1):\n",
    "    A.push(i)\n",
    "\n",
    "def offset(x, y):\n",
    "    if x.size() == 0 and y.size() > 0:\n",
    "        x.push(y.pop())\n",
    "    elif x.size() > 0 and y.size() == 0:\n",
    "        y.push(x.pop())\n",
    "    elif x.peek() > y.peek():\n",
    "        x.push(y.pop())\n",
    "    else:\n",
    "        y.push(x.pop())\n",
    "\n",
    "if disks % 2 == 0:\n",
    "    while C.size() != disks:\n",
    "        offset(A, B)\n",
    "        offset(A, C)\n",
    "        offset(B, C)\n",
    "else:\n",
    "    while C.size() != disks:\n",
    "        offset(A, C)\n",
    "        offset(A, B)\n",
    "        offset(B, C)\n",
    "\n",
    "while not C.isEmpty():\n",
    "    print(C.pop())"
   ]
  },
  {
   "cell_type": "markdown",
   "id": "brief-commitment",
   "metadata": {},
   "source": [
    "### Задание№4\n",
    "Дан текстовый файл с программой на алгоритмическом языке. За один просмотр\n",
    "файла проверить баланс круглых скобок в тексте, используя стек"
   ]
  },
  {
   "cell_type": "code",
   "execution_count": 57,
   "id": "small-soviet",
   "metadata": {},
   "outputs": [],
   "source": [
    "def balanceBrackets(file):\n",
    "    brackets = Stack()\n",
    "    for line in file:\n",
    "        for symbol in line:\n",
    "            if symbol == '(':\n",
    "                brackets.push(symbol)\n",
    "            elif symbol == ')':\n",
    "                if brackets.isEmpty():\n",
    "                    return False\n",
    "                brackets.pop()\n",
    "    return brackets.isEmpty()"
   ]
  },
  {
   "cell_type": "code",
   "execution_count": 91,
   "id": "treated-spray",
   "metadata": {},
   "outputs": [
    {
     "name": "stdout",
     "output_type": "stream",
     "text": [
      "False\n"
     ]
    }
   ],
   "source": [
    "f = open('Task4.txt','r',encoding='utf-8')\n",
    "print(balanceBrackets(f))\n",
    "    \n"
   ]
  },
  {
   "cell_type": "markdown",
   "id": "respiratory-brief",
   "metadata": {},
   "source": [
    "### Задание №5\n",
    "Дан текстовый файл с программой на алгоритмическом языке. За один просмотр\n",
    "файла проверить баланс квадратных скобок в тексте, используя дек"
   ]
  },
  {
   "cell_type": "code",
   "execution_count": null,
   "id": "catholic-vampire",
   "metadata": {},
   "outputs": [],
   "source": [
    "def squareBrackets(file):\n",
    "    brackets = Stack()\n",
    "    for line in file:\n",
    "        for symbol in line:\n",
    "            if symbol == '(':\n",
    "                brackets.pushBeginning(symbol)\n",
    "            elif symbol == ')':\n",
    "                if brackets.isEmpty():\n",
    "                    return False\n",
    "                brackets.popBeginning()\n",
    "    return brackets.isEmpty()"
   ]
  },
  {
   "cell_type": "code",
   "execution_count": 92,
   "id": "based-latino",
   "metadata": {},
   "outputs": [
    {
     "name": "stdout",
     "output_type": "stream",
     "text": [
      "True\n"
     ]
    }
   ],
   "source": [
    "f = open('Task5.txt','r',encoding='utf-8')\n",
    "print(balanceBrackets(f))"
   ]
  },
  {
   "cell_type": "markdown",
   "id": "photographic-bread",
   "metadata": {},
   "source": [
    "### Задание №6\n",
    "Дан файл из символов. Используя стек, за один просмотр файла напечатать\n",
    "сначала все цифры, затем все буквы, и, наконец, все остальные символы, сохраняя\n",
    "исходный порядок в каждой группе символов."
   ]
  },
  {
   "cell_type": "code",
   "execution_count": 93,
   "id": "flying-regard",
   "metadata": {},
   "outputs": [
    {
     "name": "stdout",
     "output_type": "stream",
     "text": [
      ".кеволеч 989 600 541 6 ежу ьсолавытичсан елмеЗ ан адог 000 2 ялюи 1 а ,кеволеч 000 000 572 олыб адог 000 1 ялюи 1 аН\n",
      " .азар 22 в меч еелоб олсорыв адог 000 2 од адог 000 1 с илмеЗ еинелесаН \n"
     ]
    }
   ],
   "source": [
    "text = ''' Население Земли с 1 000 года до 2 000 года выросло более чем в 22 раза. \n",
    "На 1 июля 1 000 года было 275 000 000 человек, а 1 июля 2 000 года на Земле насчитывалось уже 6 145 006 989 человек.'''\n",
    "\n",
    "text = text[::-1]\n",
    "print(text)"
   ]
  },
  {
   "cell_type": "code",
   "execution_count": 95,
   "id": "incorrect-haven",
   "metadata": {},
   "outputs": [
    {
     "name": "stdout",
     "output_type": "stream",
     "text": [
      "100020002211000275000000120006145006989НаселениеЗемлисгодадогодавырослоболеечемвразаНаиюлягодабылочеловекаиюлягоданаЗемленасчитывалосьужечеловек                . \n",
      "          ,               .\n"
     ]
    }
   ],
   "source": [
    "text = ''' Население Земли с 1 000 года до 2 000 года выросло более чем в 22 раза. \n",
    "На 1 июля 1 000 года было 275 000 000 человек, а 1 июля 2 000 года на Земле насчитывалось уже 6 145 006 989 человек.'''\n",
    "\n",
    "text = text[::-1]\n",
    "\n",
    "letters = Stack()\n",
    "digits = Stack()\n",
    "others = Stack()\n",
    "\n",
    "for c in text:\n",
    "    if c.isalpha():\n",
    "        letters.push(c)\n",
    "    elif c.isdigit():\n",
    "        digits.push(c)\n",
    "    else:\n",
    "        others.push(c)\n",
    "\n",
    "new_text = ''\n",
    "\n",
    "while not digits.isEmpty():\n",
    "    new_text += digits.pop()\n",
    "\n",
    "while not letters.isEmpty():\n",
    "    new_text += letters.pop()\n",
    "\n",
    "while not others.isEmpty():\n",
    "    new_text += others.pop()\n",
    "\n",
    "print(new_text)"
   ]
  },
  {
   "cell_type": "markdown",
   "id": "certain-stranger",
   "metadata": {},
   "source": [
    "### Задание №7\n",
    "Дан файл из целых чисел. Используя дек, за один просмотр файла напечатать\n",
    "сначала все отрицательные числа, затем все положительные числа, сохраняя\n",
    "исходный порядок в каждой группе."
   ]
  },
  {
   "cell_type": "code",
   "execution_count": 98,
   "id": "matched-relationship",
   "metadata": {},
   "outputs": [
    {
     "name": "stdout",
     "output_type": "stream",
     "text": [
      "[5, -2, 10, 1, 9, -10, -4, -7, -4, -4]\n"
     ]
    }
   ],
   "source": [
    "numbers = [random.randint(-10, 10) for i in range(10)]\n",
    "print(numbers)"
   ]
  },
  {
   "cell_type": "code",
   "execution_count": 99,
   "id": "soviet-solomon",
   "metadata": {},
   "outputs": [
    {
     "name": "stdout",
     "output_type": "stream",
     "text": [
      "-2\n",
      "-10\n",
      "-4\n",
      "-7\n",
      "-4\n",
      "-4\n",
      "5\n",
      "10\n",
      "1\n",
      "9\n"
     ]
    }
   ],
   "source": [
    "deque = Deque()\n",
    "for n in numbers:\n",
    "    if n < 0:\n",
    "        deque.pushEnd(n)\n",
    "    else:\n",
    "        deque.pushBeginning(n)\n",
    "\n",
    "while not deque.isEmpty() and deque.peekEnd()<0:\n",
    "    x = deque.popEnd()\n",
    "    deque.pushBeginning(x)\n",
    "\n",
    "while not deque.isEmpty() and deque.peekBeginning()<0:\n",
    "    x = deque.popBeginning()\n",
    "    print(x)\n",
    "\n",
    "while not deque.isEmpty():\n",
    "    print(deque.popEnd())"
   ]
  },
  {
   "cell_type": "markdown",
   "id": "conservative-resolution",
   "metadata": {},
   "source": [
    "### Задание №8\n",
    "Дан текстовый файл. Используя стек, сформировать новый текстовый файл,\n",
    "содержащий строки исходного файла, записанные в обратном порядке: первая\n",
    "строка становится последней, вторая – предпоследней и т.д."
   ]
  },
  {
   "cell_type": "code",
   "execution_count": 110,
   "id": "exempt-affect",
   "metadata": {},
   "outputs": [
    {
     "name": "stdout",
     "output_type": "stream",
     "text": [
      "Вы помните,\n",
      "Вы всё, конечно, помните,\n",
      "Как я стоял,\n",
      "Приблизившись к стене,\n",
      "Взволнованно ходили вы по комнате\n",
      "И что-то резкое\n",
      "В лицо бросали мне.\n",
      "Вы говорили:\n",
      "Нам пора расстаться,\n",
      "Что вас измучила\n",
      "Моя шальная жизнь,\n",
      "Что вам пора за дело приниматься,\n",
      "А мой удел —\n",
      "Катиться дальше, вниз.\n",
      "\n",
      "Катиться дальше, вниз.\n",
      "А мой удел —\n",
      "Что вам пора за дело приниматься,\n",
      "Моя шальная жизнь,\n",
      "Что вас измучила\n",
      "Нам пора расстаться,\n",
      "Вы говорили:\n",
      "В лицо бросали мне.\n",
      "И что-то резкое\n",
      "Взволнованно ходили вы по комнате\n",
      "Приблизившись к стене,\n",
      "Как я стоял,\n",
      "Вы всё, конечно, помните,\n",
      "Вы помните,\n"
     ]
    }
   ],
   "source": [
    "file = open('Task8.txt','r',encoding='utf-8')\n",
    "stack = Stack()\n",
    "for line in file:\n",
    "    line = line.strip()\n",
    "    print(line)\n",
    "    stack.push(line)\n",
    "print()\n",
    "while not stack.isEmpty():\n",
    "    print(stack.pop())"
   ]
  },
  {
   "cell_type": "markdown",
   "id": "binding-controversy",
   "metadata": {},
   "source": [
    "### Задание №9\n",
    "Дан текстовый файл. Используя стек, вычислить значение логического выражения,\n",
    "записанного в текстовом файле в следующей форме:\n",
    "< ЛВ > ::= T | F | (N<ЛВ>) | (<ЛВ>A<ЛВ>) | (<ЛВ>X<ЛВ>) | (<ЛВ>O<ЛВ>),\n",
    "где буквами обозначены логические константы и операции:\n",
    "T – True, F – False, N – Not, A – And, X – Xor, O – Or.\n"
   ]
  },
  {
   "cell_type": "code",
   "execution_count": 164,
   "id": "genuine-sherman",
   "metadata": {},
   "outputs": [
    {
     "name": "stdout",
     "output_type": "stream",
     "text": [
      "T\n"
     ]
    }
   ],
   "source": [
    "expression = '((TAF)XT)AN(TAF)'\n",
    "\n",
    "operations = Stack()\n",
    "constants = Stack()\n",
    "\n",
    "num = 0\n",
    "while True:\n",
    "    nextSymb = False\n",
    "    if not operations.isEmpty():\n",
    "        if operations.peek() == 'N':\n",
    "            if constants.isEmpty():\n",
    "                nextSymb = True\n",
    "            else:\n",
    "                if constants.pop() == 'T':\n",
    "                    constants.push('F')\n",
    "                else:\n",
    "                    constants.push('T')\n",
    "                operations.pop()\n",
    "        elif operations.peek() == 'A':\n",
    "            if constants.size() < 2:\n",
    "                nextSymb = True\n",
    "            else:\n",
    "                a = constants.pop()\n",
    "                b = constants.pop()\n",
    "                if a == b and b == 'T':\n",
    "                    constants.push('T')\n",
    "                else:\n",
    "                    constants.push('F')\n",
    "                operations.pop()\n",
    "        elif operations.peek() == 'O':\n",
    "            if constants.size() < 2:\n",
    "                nextSymb = True\n",
    "            else:\n",
    "                a = constants.pop()\n",
    "                b = constants.pop()\n",
    "                if a == b or b == 'F':\n",
    "                    constants.push('T')\n",
    "                else:\n",
    "                    constants.push('F')\n",
    "                operations.pop()\n",
    "        elif operations.peek() == 'X':\n",
    "            if constants.size() < 2:\n",
    "                nextSymb = True\n",
    "            else:\n",
    "                a = constants.pop()\n",
    "                b = constants.pop()\n",
    "                if a != b:\n",
    "                    constants.push('T')\n",
    "                else:\n",
    "                    constants.push('F')\n",
    "                operations.pop()\n",
    "        elif operations.peek() == '(':\n",
    "            nextSymb = True\n",
    "        elif operations.peek() == ')':\n",
    "            operations.pop()\n",
    "            operations.pop()\n",
    "    else:\n",
    "        nextSymb = True\n",
    "    if nextSymb:\n",
    "        i = expression[num]\n",
    "        if i == 'N':\n",
    "            operations.push(i)\n",
    "            if expression[num+1] in 'TF':\n",
    "                constants.push(expression[num+1])\n",
    "            elif expression[num+1] in 'NAXO()':\n",
    "                operations.push(expression[num+1])\n",
    "            num+=2\n",
    "        else:\n",
    "            if i in 'TF':\n",
    "                constants.push(i)\n",
    "            if i in 'NAXO()':\n",
    "                operations.push(i)\n",
    "            num += 1\n",
    "    \n",
    "\n",
    "    if num == len(expression) and operations.size() == 0:\n",
    "        break\n",
    "\n",
    "while not constants.isEmpty():\n",
    "    print(constants.pop())"
   ]
  },
  {
   "cell_type": "markdown",
   "id": "presidential-jimmy",
   "metadata": {},
   "source": [
    "### Задание №10\n",
    "Дан текстовый файл. В текстовом файле записана формула следующего вида:\n",
    "<Формула> ::= <Цифра> | M(<Формула>,<Формула>) | N(Формула>,<Формула>)\n",
    "\n",
    "< Цифра > ::= 0 | 1 | 2 | 3 | 4 | 5 | 6 | 7 | 8 | 9\n",
    "где буквами обозначены функции:\n",
    "M – определение максимума, N – определение минимума.\n",
    "Используя стек, вычислить значение заданного выражения."
   ]
  },
  {
   "cell_type": "code",
   "execution_count": 139,
   "id": "bearing-lloyd",
   "metadata": {},
   "outputs": [
    {
     "name": "stdout",
     "output_type": "stream",
     "text": [
      "7\n"
     ]
    }
   ],
   "source": [
    "\n",
    "formula = 'N(9,N(7,M(8,M(1,N(4,6)))))'\n",
    "operations = Stack()\n",
    "nums = Stack()\n",
    "\n",
    "\n",
    "count = 0\n",
    "while count < len(formula):\n",
    "    i = formula[count]\n",
    "    if i.isdigit():\n",
    "        nums.push(i)\n",
    "    if i in 'MN':\n",
    "        operations.push(i)\n",
    "    count += 1\n",
    "\n",
    "while nums.size()!=1:\n",
    "    a = nums.pop()\n",
    "    b = nums.pop()\n",
    "    if a < b:\n",
    "        if operations.pop() == 'M':\n",
    "            nums.push(b)\n",
    "        else:\n",
    "            nums.push(a)\n",
    "    else:\n",
    "        if operations.pop()=='M':\n",
    "            nums.push(a)\n",
    "        else:\n",
    "            nums.push(b)\n",
    "\n",
    "while not nums.isEmpty():\n",
    "    print(nums.pop())\n"
   ]
  },
  {
   "cell_type": "markdown",
   "id": "certain-electronics",
   "metadata": {},
   "source": [
    "### Задание №11\n",
    "Дан текстовый файл. Используя стек, проверить, является ли содержимое\n",
    "текстового файла правильной записью формулы вида:\n",
    "< Формула > ::= < Терм > | < Терм > + < Формула > | < Терм > - < Формула >\n",
    "\n",
    "< Терм > ::= < Имя > | (< Формула >)\n",
    "\n",
    "< Имя > ::= x | y | z"
   ]
  },
  {
   "cell_type": "code",
   "execution_count": 169,
   "id": "played-japan",
   "metadata": {},
   "outputs": [],
   "source": [
    "def checkFormula():\n",
    "    formula = '((x+z+y)-(z-y))'\n",
    "    stack = Stack()\n",
    "\n",
    "    count = 0\n",
    "    while True:\n",
    "        nextSymb = False\n",
    "        if not stack.isEmpty():\n",
    "            if stack.peek() == '(':\n",
    "                nextSymb = True\n",
    "            elif stack.peek() == ')':\n",
    "                stack.pop()\n",
    "                if stack.size() < 2 or stack.pop() != 'formula' or stack.pop() != '(':\n",
    "                    return False\n",
    "                stack.push('formula')\n",
    "            elif stack.peek() == 'formula':\n",
    "                stack.pop()\n",
    "                if stack.size() > 1 and stack.peek() in '+-':\n",
    "                    if stack.pop() in '+-' and stack.pop() == 'formula':\n",
    "                        stack.push('formula')\n",
    "                    else:\n",
    "                        return False\n",
    "                else:\n",
    "                    stack.push('formula')\n",
    "                    nextSymb = True\n",
    "            else:\n",
    "                nextSymb = True\n",
    "        else:\n",
    "            nextSymb = True\n",
    "        if nextSymb:\n",
    "            i = formula[count]\n",
    "            if i in 'xyz':\n",
    "                stack.push('formula')\n",
    "            elif i in '()+-':\n",
    "                stack.push(i)\n",
    "            count += 1\n",
    "        if count == len(formula) and stack.size() == 1:\n",
    "            break\n",
    "    return True"
   ]
  },
  {
   "cell_type": "code",
   "execution_count": 170,
   "id": "referenced-telephone",
   "metadata": {},
   "outputs": [
    {
     "data": {
      "text/plain": [
       "True"
      ]
     },
     "execution_count": 170,
     "metadata": {},
     "output_type": "execute_result"
    }
   ],
   "source": [
    "checkFormula()"
   ]
  },
  {
   "cell_type": "markdown",
   "id": "figured-muscle",
   "metadata": {},
   "source": [
    "# Вывод\n",
    "В данной лабораторной работе были реализованы структуры данных Stack и Deque и с помощью них были решены 11 практических задач."
   ]
  },
  {
   "cell_type": "code",
   "execution_count": null,
   "id": "regulation-hometown",
   "metadata": {},
   "outputs": [],
   "source": []
  }
 ],
 "metadata": {
  "kernelspec": {
   "display_name": "Python 3",
   "language": "python",
   "name": "python3"
  },
  "language_info": {
   "codemirror_mode": {
    "name": "ipython",
    "version": 3
   },
   "file_extension": ".py",
   "mimetype": "text/x-python",
   "name": "python",
   "nbconvert_exporter": "python",
   "pygments_lexer": "ipython3",
   "version": "3.9.1"
  }
 },
 "nbformat": 4,
 "nbformat_minor": 5
}
